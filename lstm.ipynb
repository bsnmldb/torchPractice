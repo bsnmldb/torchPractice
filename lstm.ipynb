{
 "cells": [
  {
   "cell_type": "code",
   "execution_count": 7,
   "metadata": {},
   "outputs": [],
   "source": [
    "import torch\n",
    "from torch import nn"
   ]
  },
  {
   "cell_type": "code",
   "execution_count": 8,
   "metadata": {},
   "outputs": [],
   "source": [
    "class LSTM(nn.Module):\n",
    "    def __init__(self, input_size, hidden_size):\n",
    "        super().__init__()\n",
    "        self.input_gate = nn.Linear(input_size + hidden_size, hidden_size)\n",
    "        self.forget_gate = nn.Linear(input_size + hidden_size, hidden_size)\n",
    "        self.output_gate = nn.Linear(input_size + hidden_size, hidden_size)\n",
    "        self.cell_gate = nn.Linear(input_size + hidden_size, hidden_size)\n",
    "        self.tanh = nn.Tanh()\n",
    "        self.sigmoid = nn.Sigmoid()\n",
    "\n",
    "    def forward(self, X, c, h, batch_first=False):\n",
    "        if batch_first:\n",
    "            X = X.transpose(0, 1)\n",
    "        outputs = []\n",
    "        for x in X:\n",
    "            xh = torch.cat((x, h), dim=1)\n",
    "            ig = self.sigmoid(self.input_gate(xh))\n",
    "            fg = self.sigmoid(self.forget_gate(xh))\n",
    "            og = self.sigmoid(self.output_gate(xh))\n",
    "            cell_candidate = self.tanh(self.cell_gate(xh))\n",
    "            c = c * fg + cell_candidate * ig\n",
    "            h = self.tanh(c * og)\n",
    "            outputs.append(h)\n",
    "        outputs = torch.stack(outputs)\n",
    "        if batch_first:\n",
    "            outputs.transpose_(0, 1)\n",
    "        return outputs"
   ]
  },
  {
   "cell_type": "code",
   "execution_count": 9,
   "metadata": {},
   "outputs": [
    {
     "name": "stdout",
     "output_type": "stream",
     "text": [
      "torch.Size([8, 10, 100])\n"
     ]
    }
   ],
   "source": [
    "input_size = 50\n",
    "hidden_size = 100\n",
    "lstm = LSTM(input_size, hidden_size)\n",
    "\n",
    "X = torch.randn((8, 10, input_size))\n",
    "h = torch.zeros((8, hidden_size))\n",
    "c = torch.zeros((8, hidden_size))\n",
    "\n",
    "y = lstm(X, c, h, True)\n",
    "print(y.shape)"
   ]
  },
  {
   "cell_type": "code",
   "execution_count": 12,
   "metadata": {},
   "outputs": [],
   "source": [
    "class GRU(nn.Module):\n",
    "    def __init__(self, input_size, hidden_size):\n",
    "        super().__init__()\n",
    "        self.reset_gate = nn.Linear(input_size + hidden_size, hidden_size)\n",
    "        self.upgrade_gate = nn.Linear(input_size + hidden_size, hidden_size)\n",
    "        self.output_layer = nn.Linear(input_size + hidden_size, hidden_size)\n",
    "        self.tanh = nn.Tanh()\n",
    "        self.sigmoid = nn.Sigmoid()\n",
    "    \n",
    "    def forward(self, X, h, batch_first=False):\n",
    "        if batch_first:\n",
    "            X = X.transpose(0, 1)\n",
    "        outputs = []\n",
    "        for x in X:\n",
    "            xh = torch.cat((x, h), dim=1)\n",
    "            rg = self.sigmoid(self.reset_gate(xh))\n",
    "            ug = self.sigmoid(self.upgrade_gate(xh))\n",
    "            h_candidate = self.tanh(self.output_layer(torch.cat((x, h * rg), dim=1)))\n",
    "            h = ug * h + (1 - ug) * h_candidate\n",
    "            outputs.append(h)\n",
    "        outputs = torch.stack(outputs)\n",
    "        if batch_first:\n",
    "            outputs.transpose_(0, 1)\n",
    "        return outputs"
   ]
  },
  {
   "cell_type": "code",
   "execution_count": 13,
   "metadata": {},
   "outputs": [
    {
     "name": "stdout",
     "output_type": "stream",
     "text": [
      "torch.Size([8, 10, 100])\n"
     ]
    },
    {
     "ename": "",
     "evalue": "",
     "output_type": "error",
     "traceback": [
      "\u001b[1;31m在当前单元格或上一个单元格中执行代码时 Kernel 崩溃。\n",
      "\u001b[1;31m请查看单元格中的代码，以确定故障的可能原因。\n",
      "\u001b[1;31m单击<a href='https://aka.ms/vscodeJupyterKernelCrash'>此处</a>了解详细信息。\n",
      "\u001b[1;31m有关更多详细信息，请查看 Jupyter <a href='command:jupyter.viewOutput'>log</a>。"
     ]
    }
   ],
   "source": [
    "input_size = 50\n",
    "hidden_size = 100\n",
    "lstm = GRU(input_size, hidden_size)\n",
    "\n",
    "X = torch.randn((8, 10, input_size))\n",
    "h = torch.zeros((8, hidden_size))\n",
    "\n",
    "y = lstm(X, h, True)\n",
    "print(y.shape)"
   ]
  }
 ],
 "metadata": {
  "kernelspec": {
   "display_name": "Python 3",
   "language": "python",
   "name": "python3"
  },
  "language_info": {
   "codemirror_mode": {
    "name": "ipython",
    "version": 3
   },
   "file_extension": ".py",
   "mimetype": "text/x-python",
   "name": "python",
   "nbconvert_exporter": "python",
   "pygments_lexer": "ipython3",
   "version": "3.9.19"
  }
 },
 "nbformat": 4,
 "nbformat_minor": 2
}
